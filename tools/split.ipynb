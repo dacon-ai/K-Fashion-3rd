{
 "cells": [
  {
   "cell_type": "code",
   "execution_count": 1,
   "metadata": {},
   "outputs": [],
   "source": [
    "import json\n",
    "import os\n",
    "import random\n",
    "\n",
    "\n",
    "def split_dataset(input_json, input_csv, output_dir, val_ratio, random_seed):\n",
    "    random.seed(random_seed)\n",
    "\n",
    "    with open(input_json) as json_reader:\n",
    "        dataset = json.load(json_reader)\n",
    "\n",
    "    images = dataset['images']\n",
    "    annotations = dataset['annotations']\n",
    "    categories = dataset['categories']\n",
    "\n",
    "    # file_name에 prefix 디렉토리까지 포함 (CocoDataset 클래스를 사용하는 경우)\n",
    "    # for image in images:\n",
    "    #     image['file_name'] = '{}/{}'.format(image['file_name'][0], image['file_name'])\n",
    "\n",
    "    image_ids = [x.get('id') for x in images]\n",
    "    image_ids.sort()\n",
    "    random.shuffle(image_ids)\n",
    "\n",
    "    num_val = int(len(image_ids) * val_ratio)\n",
    "    num_train = len(image_ids) - num_val\n",
    "\n",
    "    image_ids_val, image_ids_train = set(image_ids[:num_val]), set(image_ids[num_val:])\n",
    "\n",
    "    train_images = [x for x in images if x.get('id') in image_ids_train]\n",
    "    val_images = [x for x in images if x.get('id') in image_ids_val]\n",
    "    train_annotations = [x for x in annotations if x.get('image_id') in image_ids_train]\n",
    "    val_annotations = [x for x in annotations if x.get('image_id') in image_ids_val]\n",
    "\n",
    "    train_data = {\n",
    "        'images': train_images,\n",
    "        'annotations': train_annotations,\n",
    "        'categories': categories,\n",
    "    }\n",
    "\n",
    "    val_data = {\n",
    "        'images': val_images,\n",
    "        'annotations': val_annotations,\n",
    "        'categories': categories,\n",
    "    }\n",
    "\n",
    "    output_seed_dir = os.path.join(output_dir, f'seed{random_seed}')\n",
    "    os.makedirs(output_seed_dir, exist_ok=True)\n",
    "    output_train_json = os.path.join(output_seed_dir, 'train.json')\n",
    "    output_val_json = os.path.join(output_seed_dir, 'val.json')\n",
    "    output_train_csv = os.path.join(output_seed_dir, 'train.csv')\n",
    "    output_val_csv = os.path.join(output_seed_dir, 'val.csv')\n",
    "\n",
    "    print(f'write {output_train_json}')\n",
    "    with open(output_train_json, 'w') as train_writer:\n",
    "        json.dump(train_data, train_writer)\n",
    "\n",
    "    print(f'write {output_val_json}')\n",
    "    with open(output_val_json, 'w') as val_writer:\n",
    "        json.dump(val_data, val_writer)\n",
    "\n",
    "    print(f'write {output_train_csv}, {output_val_csv}')\n",
    "    with open(input_csv, 'r') as csv_reader, \\\n",
    "            open(output_train_csv, 'w') as train_writer, \\\n",
    "            open(output_val_csv, 'w') as val_writer:\n",
    "        train_writer.write('ImageId,EncodedPixels,Height,Width,CategoryId\\n')\n",
    "        val_writer.write('ImageId,EncodedPixels,Height,Width,CategoryId\\n')\n",
    "        for line in csv_reader:\n",
    "            if line.startswith('ImageId'): continue\n",
    "            image_id, encoded_pixels, height, width, category_id = line.strip().split(',')\n",
    "            image_id = int(image_id)\n",
    "            if image_id in image_ids_train:\n",
    "                train_writer.write(line)\n",
    "            elif image_id in image_ids_val:\n",
    "                val_writer.write(line)\n",
    "            else:\n",
    "                raise ValueError(f'unknown image_id: {image_id}')"
   ]
  },
  {
   "cell_type": "code",
   "execution_count": 3,
   "metadata": {
    "pycharm": {
     "name": "#%%\n"
    }
   },
   "outputs": [
    {
     "name": "stdout",
     "output_type": "stream",
     "text": [
      "write ../dataset/seed13/train.json\n",
      "write ../dataset/seed13/val.json\n",
      "write ../dataset/seed13/train.csv, ../dataset/seed13/val.csv\n"
     ]
    }
   ],
   "source": [
    "\n",
    "split_dataset(input_json='../dataset/train.json',\n",
    "              input_csv='../dataset/train.csv',\n",
    "              output_dir='../dataset/',\n",
    "              val_ratio=0.1,\n",
    "              random_seed=13)\n"
   ]
  },
  {
   "cell_type": "code",
   "execution_count": 9,
   "metadata": {},
   "outputs": [
    {
     "name": "stdout",
     "output_type": "stream",
     "text": [
      "training data\n",
      "images: 85909\n",
      "annotations: 101403\n",
      "categories: 21\n"
     ]
    }
   ],
   "source": [
    "import json\n",
    "\n",
    "train_data = json.load(open('../dataset/seed13/train.json'))\n",
    "\n",
    "print('training data')\n",
    "print(f'images: {len(train_data[\"images\"])}')\n",
    "print(f'annotations: {len(train_data[\"annotations\"])}')\n",
    "print(f'categories: {len(train_data[\"categories\"])}')"
   ]
  },
  {
   "cell_type": "code",
   "execution_count": 10,
   "metadata": {},
   "outputs": [
    {
     "name": "stdout",
     "output_type": "stream",
     "text": [
      "validation data\n",
      "images: 9545\n",
      "annotations: 11265\n",
      "categories: 21\n"
     ]
    }
   ],
   "source": [
    "val_data = json.load(open('../dataset/seed13/val.json'))\n",
    "\n",
    "print('validation data')\n",
    "print(f'images: {len(val_data[\"images\"])}')\n",
    "print(f'annotations: {len(val_data[\"annotations\"])}')\n",
    "print(f'categories: {len(val_data[\"categories\"])}')"
   ]
  },
  {
   "cell_type": "code",
   "execution_count": null,
   "metadata": {},
   "outputs": [],
   "source": [
    "from .builder import DATASETS\n",
    "from .coco import CocoDataset\n",
    "\n",
    "# /mmdetection/mmdet/datasets/kfashion.py\n",
    "# CocoDataset을 상속한 새로운 KFashionDataset을 정의\n",
    "@DATASETS.register_module()\n",
    "class KFashionDataset(CocoDataset):\n",
    "    CLASSES = ('top', 'blouse', 't-shirt', 'Knitted fabri', 'shirt', 'bra top', 'hood',\n",
    "               'blue jeans', 'pants', 'skirt', 'leggings', 'jogger pants', 'coat', 'jacket',\n",
    "               'jumper', 'padding jacket', 'best', 'kadigan', 'zip up', 'dress', 'jumpsuit')\n",
    "\n",
    "    def load_annotations(self, ann_file):\n",
    "        data_infos = super().load_annotations(ann_file)\n",
    "        for x in data_infos:\n",
    "            x['filename'] = '{}/{}'.format(x['filename'][0], x['filename'])\n",
    "        return data_infos\n"
   ]
  },
  {
   "cell_type": "code",
   "execution_count": null,
   "metadata": {},
   "outputs": [],
   "source": [
    "    \n",
    "# /mmdetection/mmdet/datasets/__init__.py\n",
    "# __all__에 KFashionDataset을 추가합니다.\n",
    "__all__ = [\n",
    "    'CustomDataset', 'XMLDataset', 'CocoDataset', 'DeepFashionDataset',\n",
    "    'VOCDataset', 'CityscapesDataset', 'LVISDataset', 'LVISV05Dataset',\n",
    "    'LVISV1Dataset', 'GroupSampler', 'DistributedGroupSampler',\n",
    "    'DistributedSampler', 'build_dataloader', 'ConcatDataset', 'RepeatDataset',\n",
    "    'ClassBalancedDataset', 'WIDERFaceDataset', 'DATASETS', 'PIPELINES',\n",
    "    'build_dataset', 'replace_ImageToTensor', 'KFashionDataset'\n",
    "]\n",
    "\n"
   ]
  },
  {
   "cell_type": "code",
   "execution_count": null,
   "metadata": {},
   "outputs": [],
   "source": [
    "\n",
    "# /mmdetection/configs/_base_/default_runtime.py 혹은 사용하는 config 파일\n",
    "# 사용하는 config 파일에 dataset_type을 KFashionDataset을 사용하도록 지정\n",
    "dataset_type = 'KFashionDataset'\n",
    "data_root = '/kfashion/dataset'\n",
    "\n",
    "data = dict(\n",
    "    train=dict(\n",
    "        type=dataset_type,\n",
    "        ann_file=data_root + 'seed13/train.json',\n",
    "        img_prefix=data_root + 'train',\n",
    "        pipeline=train_pipeline),\n",
    "    val=dict(\n",
    "        type=dataset_type,\n",
    "        ann_file=data_root + 'seed13/val.json',\n",
    "        img_prefix=data_root + 'train',\n",
    "        pipeline=test_pipeline),\n",
    "    test=dict(\n",
    "        type=dataset_type,\n",
    "        ann_file=data_root + 'test_pubilc.json',\n",
    "        img_prefix=data_root + 'test',\n",
    "        pipeline=test_pipeline)\n",
    ")\n",
    "\n"
   ]
  }
 ],
 "metadata": {
  "kernelspec": {
   "display_name": "Python 3",
   "language": "python",
   "name": "python3"
  },
  "language_info": {
   "codemirror_mode": {
    "name": "ipython",
    "version": 3
   },
   "file_extension": ".py",
   "mimetype": "text/x-python",
   "name": "python",
   "nbconvert_exporter": "python",
   "pygments_lexer": "ipython3",
   "version": "3.7.7"
  }
 },
 "nbformat": 4,
 "nbformat_minor": 1
}
